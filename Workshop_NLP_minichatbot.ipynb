{
 "cells": [
  {
   "cell_type": "code",
   "execution_count": 5,
   "id": "49697ef7",
   "metadata": {},
   "outputs": [
    {
     "name": "stderr",
     "output_type": "stream",
     "text": [
      "Truncation was not explicitly activated but `max_length` is provided a specific value, please use `truncation=True` to explicitly truncate examples to max length. Defaulting to 'longest_first' truncation strategy. If you encode pairs of sequences (GLUE-style) with the tokenizer you can select this strategy more precisely by providing a specific strategy to `truncation`.\n"
     ]
    }
   ],
   "source": [
    "import tkinter as tk\n",
    "from transformers import pipeline\n",
    "import tensorflow as tf\n",
    "\n",
    "model = tf.keras.models.Sequential()\n",
    "\n",
    "class ChatBot:\n",
    "    def __init__(self, root):\n",
    "        self.root = root\n",
    "        self.root.title(\"ChatBot Intelligent en Français\")\n",
    "\n",
    "        # Initialiser le pipeline de génération de texte\n",
    "        self.generator = pipeline('text-generation', model='asi/gpt-fr-cased-base', device=-1) \n",
    "        \n",
    "        self.text_area = tk.Text(root, height=20, width=50)\n",
    "        self.text_area.pack(pady=10)\n",
    "        \n",
    "        # Champ de saisie pour écrire le message\n",
    "        self.entry_message = tk.Entry(root, width=50)\n",
    "        self.entry_message.pack(pady=10)\n",
    "        \n",
    "        # Bouton pour envoyer le message\n",
    "        self.send_button = tk.Button(root, text=\"Envoyer\", command=self.send_message)\n",
    "        self.send_button.pack()\n",
    "\n",
    "    def send_message(self):\n",
    "        user_input = self.entry_message.get()\n",
    "        self.update_chat_window(\"Vous: \" + user_input)\n",
    "        self.entry_message.delete(0, tk.END)\n",
    "        self.generate_response(user_input)\n",
    "\n",
    "    def generate_response(self, text):\n",
    "        # Générer une réponse à partir du modèle\n",
    "        response = self.generator(text, max_length=50, num_return_sequences=1)[0]['generated_text']\n",
    "        response = response[len(text):]  # Retirer l'entrée utilisateur de la réponse\n",
    "        self.update_chat_window(\"Bot: \" + response)\n",
    "\n",
    "    def update_chat_window(self, message):\n",
    "        self.text_area.insert(tk.END, message + \"\\n\")\n",
    "        self.text_area.yview(tk.END)  # Faire défiler vers le bas de la zone de texte\n",
    "\n",
    "if __name__ == \"__main__\":\n",
    "    root = tk.Tk()\n",
    "    chat_bot = ChatBot(root)\n",
    "    root.mainloop()\n"
   ]
  },
  {
   "cell_type": "code",
   "execution_count": null,
   "id": "c31324d2",
   "metadata": {},
   "outputs": [],
   "source": []
  }
 ],
 "metadata": {
  "kernelspec": {
   "display_name": "Python 3 (ipykernel)",
   "language": "python",
   "name": "python3"
  },
  "language_info": {
   "codemirror_mode": {
    "name": "ipython",
    "version": 3
   },
   "file_extension": ".py",
   "mimetype": "text/x-python",
   "name": "python",
   "nbconvert_exporter": "python",
   "pygments_lexer": "ipython3",
   "version": "3.11.5"
  }
 },
 "nbformat": 4,
 "nbformat_minor": 5
}
